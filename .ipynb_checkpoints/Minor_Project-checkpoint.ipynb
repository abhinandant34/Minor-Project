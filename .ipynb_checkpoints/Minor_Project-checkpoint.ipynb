{
 "cells": [
  {
   "cell_type": "code",
   "execution_count": 3,
   "id": "ec72d92e",
   "metadata": {},
   "outputs": [],
   "source": [
    "# import necessary modules"
   ]
  },
  {
   "cell_type": "code",
   "execution_count": 4,
   "id": "a26b6147",
   "metadata": {},
   "outputs": [],
   "source": [
    "from IPython.display import clear_output\n",
    "import numpy as np\n",
    "import pandas as pd\n",
    "import tensorflow as tf\n",
    "from sklearn.model_selection import train_test_split\n",
    "from sklearn.metrics import classification_report\n",
    "from sklearn.metrics import confusion_matrix, accuracy_score, precision_score, recall_score\n",
    "from tensorflow import keras\n",
    "from tensorflow.keras import layers\n",
    "from IPython.display import SVG\n",
    "from keras.utils.vis_utils import model_to_dot\n",
    "import matplotlib.pyplot as plt"
   ]
  },
  {
   "cell_type": "code",
   "execution_count": 5,
   "id": "55215b31",
   "metadata": {},
   "outputs": [],
   "source": [
    "# load dataset"
   ]
  },
  {
   "cell_type": "code",
   "execution_count": 6,
   "id": "0328c27b",
   "metadata": {},
   "outputs": [],
   "source": [
    "df = pd.read_csv('./sqli.csv')\n",
    "df = df[df['Label'].notna()]  # remove NaN values\n",
    "df = df[df['Sentence'].notna()]  # remove NaN values"
   ]
  },
  {
   "cell_type": "code",
   "execution_count": 7,
   "id": "f9e31791",
   "metadata": {},
   "outputs": [],
   "source": [
    "# define function to convert text to numerical values"
   ]
  },
  {
   "cell_type": "code",
   "execution_count": 8,
   "id": "31333cd0",
   "metadata": {},
   "outputs": [],
   "source": [
    "def data2char_index(X, max_len):\n",
    "    alphabet = \" abcdefghijklmnopqrstuvwxyz0123456789-,;.!?:'\\\"/\\\\|_@#$%^&*~`+-=<>()[]{}\"\n",
    "    result = []\n",
    "    for data in X:\n",
    "        mat = []\n",
    "        for ch in data:\n",
    "            ch = ch.lower()\n",
    "            if ch not in alphabet:\n",
    "                continue\n",
    "            mat.append(alphabet.index(ch))\n",
    "        result.append(mat)\n",
    "    X_char = tf.keras.preprocessing.sequence.pad_sequences(np.array(result, dtype=object), padding='post',\n",
    "                                                           truncating='post', maxlen=max_len)\n",
    "    return X_char"
   ]
  },
  {
   "cell_type": "code",
   "execution_count": 9,
   "id": "6a6ae69e",
   "metadata": {},
   "outputs": [],
   "source": [
    "# preprocess the data"
   ]
  },
  {
   "cell_type": "code",
   "execution_count": 10,
   "id": "dfa9aea5",
   "metadata": {},
   "outputs": [
    {
     "name": "stdout",
     "output_type": "stream",
     "text": [
      "(88709, 1000)\n",
      "(88709,)\n"
     ]
    }
   ],
   "source": [
    "data = df['Sentence'].values\n",
    "label = df['Label'].values\n",
    "\n",
    "data = data2char_index(data, max_len=1000)\n",
    "\n",
    "trainX, testX, y_train, y_test = train_test_split(data, label, test_size=0.1)\n",
    "trainX, x_val, y_train, y_val = train_test_split(trainX, y_train, test_size=0.1)\n",
    "\n",
    "print(trainX.shape)\n",
    "print(y_train.shape)"
   ]
  },
  {
   "cell_type": "code",
   "execution_count": 11,
   "id": "eb2b2760",
   "metadata": {},
   "outputs": [],
   "source": [
    "# define CNN model 1"
   ]
  },
  {
   "cell_type": "code",
   "execution_count": 12,
   "id": "2827d620",
   "metadata": {},
   "outputs": [],
   "source": [
    "def model_v1(max_len):\n",
    "    main_input = tf.keras.layers.Input(shape=(max_len,))\n",
    "    \n",
    "    embedder = tf.keras.layers.Embedding(\n",
    "        input_dim=70,  \n",
    "        output_dim=80, \n",
    "        input_length=max_len,\n",
    "        trainable=False\n",
    "    )\n",
    "    embed = embedder(main_input)\n",
    "    \n",
    "    cnn1 = tf.keras.layers.Conv1D(32, 5, padding='same', strides=1, activation='relu')(embed)\n",
    "    cnn1 = tf.keras.layers.MaxPooling1D(pool_size=12)(cnn1)\n",
    "    \n",
    "    cnn2 = tf.keras.layers.Conv1D(32, 10, padding='same', strides=1, activation='relu')(embed)\n",
    "    cnn2 = tf.keras.layers.MaxPooling1D(pool_size=11)(cnn2)\n",
    "    \n",
    "    cnn3 = tf.keras.layers.Conv1D(32, 15, padding='same', strides=1, activation='relu')(embed)\n",
    "    cnn3 = tf.keras.layers.MaxPooling1D(pool_size=10)(cnn3)\n",
    "    \n",
    "    cnn = tf.keras.layers.concatenate([cnn1, cnn2, cnn3], axis=1)\n",
    "    flat = tf.keras.layers.Flatten()(cnn)\n",
    "    drop = tf.keras.layers.Dropout(0.2)(flat)\n",
    "    dense1 = tf.keras.layers.Dense(1024, activation='relu')(drop)\n",
    "    dense2 = tf.keras.layers.Dense(128, activation='relu')(dense1)\n",
    "    main_output = tf.keras.layers.Dense(1, activation='sigmoid')(dense2)\n",
    "    model = tf.keras.Model(inputs=main_input, outputs=main_output)\n",
    "    return model"
   ]
  },
  {
   "cell_type": "code",
   "execution_count": 13,
   "id": "227930e1",
   "metadata": {},
   "outputs": [],
   "source": [
    "#CNN Model 2"
   ]
  },
  {
   "cell_type": "code",
   "execution_count": 14,
   "id": "5e208ca0",
   "metadata": {},
   "outputs": [],
   "source": [
    "def model_v2(max_len):\n",
    "    # Input layer\n",
    "    main_input = tf.keras.layers.Input(shape=(max_len,))\n",
    "    \n",
    "    # Embedding layer\n",
    "    embedder = tf.keras.layers.Embedding(\n",
    "        input_dim=70,  \n",
    "        output_dim=80, \n",
    "        input_length=max_len,\n",
    "        trainable=False\n",
    "    )\n",
    "    embed = embedder(main_input)\n",
    "    \n",
    "    # Convolutional layers\n",
    "    cnn1 = tf.keras.layers.Conv1D(32, 3, padding='same', strides=1, activation='relu')(embed)\n",
    "    cnn1 = tf.keras.layers.MaxPooling1D(pool_size=2)(cnn1)\n",
    "    \n",
    "    cnn2 = tf.keras.layers.Conv1D(64, 3, padding='same', strides=1, activation='relu')(cnn1)\n",
    "    cnn2 = tf.keras.layers.MaxPooling1D(pool_size=2)(cnn2)\n",
    "    \n",
    "    cnn3 = tf.keras.layers.Conv1D(128, 3, padding='same', strides=1, activation='relu')(cnn2)\n",
    "    cnn3 = tf.keras.layers.MaxPooling1D(pool_size=2)(cnn3)\n",
    "    \n",
    "    # Concatenate and flatten\n",
    "    concatenate = tf.keras.layers.concatenate([cnn3], axis=1)\n",
    "    flat = tf.keras.layers.Flatten()(concatenate)\n",
    "    \n",
    "    # Dropout and dense layers\n",
    "    drop = tf.keras.layers.Dropout(0.2)(flat)\n",
    "    dense1 = tf.keras.layers.Dense(512, activation='relu')(drop)\n",
    "    dense2 = tf.keras.layers.Dense(128, activation='relu')(dense1)\n",
    "    \n",
    "    # Output layer\n",
    "    main_output = tf.keras.layers.Dense(1, activation='sigmoid')(dense2)\n",
    "    \n",
    "    # Define and return the model\n",
    "    model = tf.keras.Model(inputs=main_input, outputs=main_output)\n",
    "    return model\n"
   ]
  },
  {
   "cell_type": "code",
   "execution_count": 15,
   "id": "3aaf30fd",
   "metadata": {},
   "outputs": [],
   "source": [
    "#CNN Model 3 GRU"
   ]
  },
  {
   "cell_type": "code",
   "execution_count": 16,
   "id": "8aa128e6",
   "metadata": {},
   "outputs": [],
   "source": [
    "def model_v3(max_len):\n",
    "    # input layer\n",
    "    main_input = tf.keras.layers.Input(shape=(max_len,))\n",
    "    \n",
    "    # embedding layer\n",
    "    embedder = tf.keras.layers.Embedding(\n",
    "        input_dim=70,  \n",
    "        output_dim=70, \n",
    "        input_length=max_len,\n",
    "        trainable=False\n",
    "    )\n",
    "    embed = embedder(main_input)\n",
    "    \n",
    "    # convolutional layers\n",
    "    cnn1 = tf.keras.layers.Conv1D(32, 3, padding='same', strides=1, activation='relu')(embed)\n",
    "    cnn1 = tf.keras.layers.MaxPooling1D(pool_size=2)(cnn1)\n",
    "    \n",
    "    cnn2 = tf.keras.layers.Conv1D(64, 3, padding='same', strides=1, activation='relu')(cnn1)\n",
    "    cnn2 = tf.keras.layers.MaxPooling1D(pool_size=2)(cnn2)\n",
    "    \n",
    "    cnn3 = tf.keras.layers.Conv1D(128, 3, padding='same', strides=1, activation='relu')(cnn2)\n",
    "    cnn3 = tf.keras.layers.MaxPooling1D(pool_size=2)(cnn3)\n",
    "    flat1 = tf.keras.layers.Flatten()(cnn3)\n",
    "    \n",
    "    # fully connected layer for sequential data\n",
    "    gru = tf.keras.layers.GRU(128)(embed)\n",
    "    \n",
    "    # concatenate flattened CNN and GRU outputs\n",
    "    concatenate = tf.keras.layers.concatenate([flat1, gru], axis=1)\n",
    "    drop = tf.keras.layers.Dropout(0.2)(concatenate)\n",
    "    dense1 = tf.keras.layers.Dense(512, activation='relu')(drop)\n",
    "    dense2 = tf.keras.layers.Dense(128, activation='relu')(dense1)\n",
    "    main_output = tf.keras.layers.Dense(1, activation='sigmoid')(dense2)\n",
    "    \n",
    "    # create the model with input and output layers\n",
    "    model = tf.keras.Model(inputs=main_input, outputs=main_output)\n",
    "    \n",
    "    return model\n"
   ]
  },
  {
   "cell_type": "code",
   "execution_count": 17,
   "id": "9ca92bef",
   "metadata": {},
   "outputs": [],
   "source": [
    "#CNN Model 4 GRU"
   ]
  },
  {
   "cell_type": "code",
   "execution_count": null,
   "id": "06df04e3",
   "metadata": {},
   "outputs": [],
   "source": []
  }
 ],
 "metadata": {
  "kernelspec": {
   "display_name": "Python 3 (ipykernel)",
   "language": "python",
   "name": "python3"
  },
  "language_info": {
   "codemirror_mode": {
    "name": "ipython",
    "version": 3
   },
   "file_extension": ".py",
   "mimetype": "text/x-python",
   "name": "python",
   "nbconvert_exporter": "python",
   "pygments_lexer": "ipython3",
   "version": "3.9.13"
  }
 },
 "nbformat": 4,
 "nbformat_minor": 5
}
